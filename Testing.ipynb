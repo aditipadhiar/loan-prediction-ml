{
 "cells": [
  {
   "cell_type": "code",
   "execution_count": 3,
   "id": "ac62e6e1",
   "metadata": {},
   "outputs": [],
   "source": [
    "from joblib import load\n",
    "\n",
    "# Load the saved model from the file\n",
    "loaded_model_rf = load('trained_models\\model_rf.joblib')\n",
    "loaded_model_svm = load('trained_models\\model_svm.joblib')\n",
    "loaded_model_gbc = load('trained_models\\model_gbc.joblib')\n",
    "loaded_model_catboost = load('trained_models\\model_catboost.joblib')"
   ]
  },
  {
   "cell_type": "code",
   "execution_count": 4,
   "id": "cb2f618e",
   "metadata": {},
   "outputs": [],
   "source": [
    "import pandas as pd"
   ]
  },
  {
   "cell_type": "markdown",
   "id": "e45b173a",
   "metadata": {},
   "source": [
    "### single data testing"
   ]
  },
  {
   "cell_type": "code",
   "execution_count": 5,
   "id": "52583b81",
   "metadata": {},
   "outputs": [
    {
     "name": "stdout",
     "output_type": "stream",
     "text": [
      "Prediction: [1]\n"
     ]
    }
   ],
   "source": [
    "single_data = {\n",
    "     'no_of_dependents': 2,\n",
    "    'education': 1,\n",
    "    'self_employed': 0,\n",
    "    'income_annum': 500000,\n",
    "    'loan_amount': 250000,\n",
    "    'loan_term': 12,\n",
    "    'cibil_score': 750,\n",
    "    'residential_assets_value': 1500000,\n",
    "    'commercial_assets_value': 0,\n",
    "    'luxury_assets_value': 0,\n",
    "    'bank_asset_value': 2000000,\n",
    "     'total_assets_value': 3500000\n",
    "}\n",
    "\n",
    "# Convert the single data point into a DataFrame\n",
    "single_data = pd.DataFrame([single_data])\n",
    "\n",
    "# Preprocess the single data point (similar to how you preprocessed your training data)\n",
    "# For example, handle missing values, encode categorical variables, scale features, etc.\n",
    "\n",
    "# Assuming you have preprocessed the single data point and stored it in single_df_scaled\n",
    "\n",
    "# Make predictions using the loaded model\n",
    "prediction = loaded_model_rf.predict(single_data)\n",
    "\n",
    "# Print the prediction\n",
    "print(\"Prediction:\", prediction)\n"
   ]
  },
  {
   "cell_type": "markdown",
   "id": "16dd4e16",
   "metadata": {},
   "source": [
    "### CSV testing"
   ]
  },
  {
   "cell_type": "code",
   "execution_count": 9,
   "id": "f17ce3be",
   "metadata": {},
   "outputs": [
    {
     "name": "stdout",
     "output_type": "stream",
     "text": [
      "Accuracy Random Forest: 0.9789227166276346\n",
      "Accuracy SVM: 0.6182669789227166\n",
      "Accuracy Gradient Boosting Classifier: 0.9742388758782201\n",
      "Accuracy CatBoost: 0.9765807962529274\n"
     ]
    }
   ],
   "source": [
    "import pandas as pd\n",
    "\n",
    "# Load the test data from CSV\n",
    "test_data = pd.read_csv('dataset/test_data.csv')\n",
    "\n",
    "# Separate features (X_test) and labels (y_test)\n",
    "X_test = test_data.drop(columns=['loan_status'])\n",
    "y_test = test_data['loan_status']\n",
    "\n",
    "# Optionally preprocess X_test if necessary (e.g., handle missing values, scale features, etc.)\n",
    "\n",
    "# Make predictions using each loaded model\n",
    "predictions_rf = loaded_model_rf.predict(X_test)\n",
    "predictions_svm = loaded_model_svm.predict(X_test)\n",
    "predictions_gbc = loaded_model_gbc.predict(X_test)\n",
    "predictions_catboost = loaded_model_catboost.predict(X_test)\n",
    "\n",
    "from sklearn.metrics import accuracy_score\n",
    "\n",
    "accuracy_rf = accuracy_score(y_test, predictions_rf)\n",
    "accuracy_svm = accuracy_score(y_test, predictions_svm)\n",
    "accuracy_gbc = accuracy_score(y_test, predictions_gbc)\n",
    "accuracy_catboost = accuracy_score(y_test, predictions_catboost)\n",
    "\n",
    "print(\"Accuracy Random Forest:\", accuracy_rf)\n",
    "print(\"Accuracy SVM:\", accuracy_svm)\n",
    "print(\"Accuracy Gradient Boosting Classifier:\", accuracy_gbc)\n",
    "print(\"Accuracy CatBoost:\", accuracy_catboost)\n"
   ]
  },
  {
   "cell_type": "code",
   "execution_count": null,
   "id": "bf77c646",
   "metadata": {},
   "outputs": [],
   "source": []
  }
 ],
 "metadata": {
  "kernelspec": {
   "display_name": "Python 3 (ipykernel)",
   "language": "python",
   "name": "python3"
  },
  "language_info": {
   "codemirror_mode": {
    "name": "ipython",
    "version": 3
   },
   "file_extension": ".py",
   "mimetype": "text/x-python",
   "name": "python",
   "nbconvert_exporter": "python",
   "pygments_lexer": "ipython3",
   "version": "3.11.5"
  }
 },
 "nbformat": 4,
 "nbformat_minor": 5
}
